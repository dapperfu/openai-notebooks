{
 "cells": [
  {
   "cell_type": "markdown",
   "id": "6f66b237",
   "metadata": {},
   "source": [
    "> Create a Jupyter Notebook code block that interfaces with the ChatGPT API. Given the variable \"prompt\" and a max_tokens value of 100 call the ChatGPI API and print the reply"
   ]
  },
  {
   "cell_type": "code",
   "execution_count": 1,
   "id": "68ca598e",
   "metadata": {},
   "outputs": [],
   "source": [
    "import openai\n",
    "import os\n",
    "\n",
    "openai.api_key = \"<YOUR_API_KEY>\""
   ]
  },
  {
   "cell_type": "code",
   "execution_count": null,
   "id": "2e6869ba",
   "metadata": {},
   "outputs": [],
   "source": [
    "prompt = \"Tell me about the history of the internet.\"\n",
    "\n",
    "response = openai.Completion.create(\n",
    "    engine=\"text-davinci-002\",\n",
    "    prompt=prompt,\n",
    "    max_tokens=100,\n",
    "    n=1,\n",
    "    stop=None,\n",
    "    temperature=0.5,\n",
    ")\n",
    "\n",
    "reply = response.choices[0].text.strip()\n",
    "print(reply)"
   ]
  },
  {
   "cell_type": "markdown",
   "id": "60e85cf3",
   "metadata": {},
   "source": [
    "> Rewrite the first code block to read \"openai.api_key\" from an environmental variable instead of \n",
    "\n",
    "> Write a 2 paragraph lecture to a junior software engineer as to why it is bad practices to hard code the API key into a jupyter notebook"
   ]
  },
  {
   "cell_type": "code",
   "execution_count": 2,
   "id": "125e246e",
   "metadata": {},
   "outputs": [
    {
     "ename": "KeyError",
     "evalue": "'OPENAI_API_KEY'",
     "output_type": "error",
     "traceback": [
      "\u001b[0;31m---------------------------------------------------------------------------\u001b[0m",
      "\u001b[0;31mKeyError\u001b[0m                                  Traceback (most recent call last)",
      "Cell \u001b[0;32mIn[2], line 4\u001b[0m\n\u001b[1;32m      1\u001b[0m \u001b[38;5;28;01mimport\u001b[39;00m \u001b[38;5;21;01mopenai\u001b[39;00m\n\u001b[1;32m      2\u001b[0m \u001b[38;5;28;01mimport\u001b[39;00m \u001b[38;5;21;01mos\u001b[39;00m\n\u001b[0;32m----> 4\u001b[0m openai\u001b[38;5;241m.\u001b[39mapi_key \u001b[38;5;241m=\u001b[39m \u001b[43mos\u001b[49m\u001b[38;5;241;43m.\u001b[39;49m\u001b[43menviron\u001b[49m\u001b[43m[\u001b[49m\u001b[38;5;124;43m\"\u001b[39;49m\u001b[38;5;124;43mOPENAI_API_KEY\u001b[39;49m\u001b[38;5;124;43m\"\u001b[39;49m\u001b[43m]\u001b[49m\n",
      "File \u001b[0;32m/usr/lib/python3.8/os.py:675\u001b[0m, in \u001b[0;36m_Environ.__getitem__\u001b[0;34m(self, key)\u001b[0m\n\u001b[1;32m    672\u001b[0m     value \u001b[38;5;241m=\u001b[39m \u001b[38;5;28mself\u001b[39m\u001b[38;5;241m.\u001b[39m_data[\u001b[38;5;28mself\u001b[39m\u001b[38;5;241m.\u001b[39mencodekey(key)]\n\u001b[1;32m    673\u001b[0m \u001b[38;5;28;01mexcept\u001b[39;00m \u001b[38;5;167;01mKeyError\u001b[39;00m:\n\u001b[1;32m    674\u001b[0m     \u001b[38;5;66;03m# raise KeyError with the original key value\u001b[39;00m\n\u001b[0;32m--> 675\u001b[0m     \u001b[38;5;28;01mraise\u001b[39;00m \u001b[38;5;167;01mKeyError\u001b[39;00m(key) \u001b[38;5;28;01mfrom\u001b[39;00m \u001b[38;5;28mNone\u001b[39m\n\u001b[1;32m    676\u001b[0m \u001b[38;5;28;01mreturn\u001b[39;00m \u001b[38;5;28mself\u001b[39m\u001b[38;5;241m.\u001b[39mdecodevalue(value)\n",
      "\u001b[0;31mKeyError\u001b[0m: 'OPENAI_API_KEY'"
     ]
    }
   ],
   "source": [
    "import openai\n",
    "import os\n",
    "\n",
    "openai.api_key = os.environ[\"OPENAI_API_KEY\"]"
   ]
  },
  {
   "cell_type": "markdown",
   "id": "9dfc4a17",
   "metadata": {},
   "source": [
    "Now, let's discuss why hardcoding API keys in a Jupyter Notebook or any source code is a bad practice.\n",
    "\n",
    "1. Security Risks: Hardcoding API keys directly into your source code can lead to serious security risks. When you include sensitive information like API keys in your code, there's a higher chance that this information may be accidentally leaked, especially if the code is stored in a public repository or shared with others. If an unauthorized person gains access to your API key, they could potentially misuse it, leading to unauthorized access to your account, data breaches, or abuse of the API service, which could have significant financial or reputational consequences.\n",
    "\n",
    "2. Maintainability and Scalability: Hardcoding API keys in your source code also makes it difficult to maintain and scale your application. If you need to change or rotate the API key, you'll have to update the code manually, which can be time-consuming and error-prone, especially in large codebases. Additionally, hardcoding the key prevents you from having separate keys for different environments (e.g., development, staging, production), which is a common best practice. By using environment variables or a dedicated configuration file to store API keys, you can easily manage and update them without changing the source code. This approach also makes it easier to maintain a clean separation between your code and the sensitive information it depends on, improving overall maintainability and security."
   ]
  }
 ],
 "metadata": {
  "kernelspec": {
   "display_name": "Python 3 (ipykernel)",
   "language": "python",
   "name": "python3"
  },
  "language_info": {
   "codemirror_mode": {
    "name": "ipython",
    "version": 3
   },
   "file_extension": ".py",
   "mimetype": "text/x-python",
   "name": "python",
   "nbconvert_exporter": "python",
   "pygments_lexer": "ipython3",
   "version": "3.8.10"
  }
 },
 "nbformat": 4,
 "nbformat_minor": 5
}
